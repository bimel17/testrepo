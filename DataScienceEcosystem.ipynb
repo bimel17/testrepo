{
 "cells": [
  {
   "cell_type": "markdown",
   "id": "ae9953c3-2755-439b-a56d-4582c1cc49ca",
   "metadata": {},
   "source": [
    "#  Data Science Tools and Ecosystem\n"
   ]
  },
  {
   "cell_type": "markdown",
   "id": "032550ac-2ef5-45ea-b33e-3e44572a5b72",
   "metadata": {},
   "source": [
    "In this notebook, Data Science Tools and Ecosystem are summarized."
   ]
  },
  {
   "cell_type": "markdown",
   "id": "0f4d130e-29c6-409e-9326-d48fcc053908",
   "metadata": {},
   "source": [
    "**Objectives:**"
   ]
  },
  {
   "cell_type": "markdown",
   "id": "657d1c1d-21ab-4766-90e6-4fb367848500",
   "metadata": {},
   "source": [
    "- List of popular languages used\n",
    "- List of common libraries\n",
    "- Some Data science Tools"
   ]
  },
  {
   "cell_type": "markdown",
   "id": "1bd3c04a-1c3a-483c-b5fb-3a1c6a5a152b",
   "metadata": {},
   "source": [
    "Some of the popular languages that Data Scientists use are:\n",
    "    "
   ]
  },
  {
   "cell_type": "markdown",
   "id": "a4ebf2f3-4601-4f8f-9b47-680f7ab781d9",
   "metadata": {},
   "source": [
    "1. Python\n",
    "2. R\n",
    "3. Scala"
   ]
  },
  {
   "cell_type": "markdown",
   "id": "cbaf5c96-7ed4-48f0-94af-eb3d4fe3114c",
   "metadata": {},
   "source": [
    "Some of the commonly used libraries used by Data Scientists include:"
   ]
  },
  {
   "cell_type": "markdown",
   "id": "2b0df117-6d1e-4a85-bc7d-1e5b8ba961bd",
   "metadata": {
    "tags": []
   },
   "source": [
    "1. Pandas\n",
    "2. ggplot\n",
    "3. Numpy"
   ]
  },
  {
   "cell_type": "markdown",
   "id": "7c22c54e-0ecc-4356-9394-1254d9e2881b",
   "metadata": {
    "tags": []
   },
   "source": [
    "|Data science Tools|\n",
    "|------------------|\n",
    "|BigML|\n",
    "|Apache Spark|\n",
    "|jupyter notebook|"
   ]
  },
  {
   "cell_type": "markdown",
   "id": "889e3dc6-e919-49d3-bb46-84cf09a5ff11",
   "metadata": {},
   "source": [
    "### Below are a few examples of evaluating arithmetic expressions in Python"
   ]
  },
  {
   "cell_type": "code",
   "execution_count": 4,
   "id": "61e225f0-348c-490a-9853-5090c363ceeb",
   "metadata": {
    "tags": []
   },
   "outputs": [
    {
     "data": {
      "text/plain": [
       "17"
      ]
     },
     "execution_count": 4,
     "metadata": {},
     "output_type": "execute_result"
    }
   ],
   "source": [
    "(3*4)+5 #This a simple arithmetic expression to mutiply then add integers."
   ]
  },
  {
   "cell_type": "code",
   "execution_count": 14,
   "id": "2ab02f5c-c6cb-46ec-8268-becf0fc8d4fd",
   "metadata": {
    "tags": []
   },
   "outputs": [
    {
     "name": "stdout",
     "output_type": "stream",
     "text": [
      "3.3333333333333335 hours\n"
     ]
    }
   ],
   "source": [
    "hours = 0\n",
    "time = 200\n",
    "hours = time/60\n",
    "print(str(hours)+ \" \"+ \"hours\")\n",
    "#This will convert 200 minutes to hours by diving by 60."
   ]
  },
  {
   "cell_type": "markdown",
   "id": "ef7c7427-3b47-4c24-8962-4316bf62b038",
   "metadata": {},
   "source": [
    "## AUTHOR\n",
    "Bimel"
   ]
  },
  {
   "cell_type": "code",
   "execution_count": null,
   "id": "c880089b-958c-4f74-9e81-8e247afa6dd1",
   "metadata": {},
   "outputs": [],
   "source": []
  }
 ],
 "metadata": {
  "kernelspec": {
   "display_name": "Python",
   "language": "python",
   "name": "conda-env-python-py"
  },
  "language_info": {
   "codemirror_mode": {
    "name": "ipython",
    "version": 3
   },
   "file_extension": ".py",
   "mimetype": "text/x-python",
   "name": "python",
   "nbconvert_exporter": "python",
   "pygments_lexer": "ipython3",
   "version": "3.7.12"
  }
 },
 "nbformat": 4,
 "nbformat_minor": 5
}
